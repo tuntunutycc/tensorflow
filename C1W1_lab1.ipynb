{
  "nbformat": 4,
  "nbformat_minor": 0,
  "metadata": {
    "colab": {
      "provenance": [],
      "authorship_tag": "ABX9TyO3dXA0ipft7JX43+ZQ9FLF",
      "include_colab_link": true
    },
    "kernelspec": {
      "name": "python3",
      "display_name": "Python 3"
    },
    "language_info": {
      "name": "python"
    }
  },
  "cells": [
    {
      "cell_type": "markdown",
      "metadata": {
        "id": "view-in-github",
        "colab_type": "text"
      },
      "source": [
        "<a href=\"https://colab.research.google.com/github/tuntunutycc/tensorflow/blob/main/C1W1_lab1.ipynb\" target=\"_parent\"><img src=\"https://colab.research.google.com/assets/colab-badge.svg\" alt=\"Open In Colab\"/></a>"
      ]
    },
    {
      "cell_type": "markdown",
      "source": [
        "A house has a base cost of 50k, and every additional bedroom adds a cost of 50k. This will make a 1 bedroom house cost 100k, a 2 bedroom house cost 150k etc.\n",
        "\n",
        "How would you create a neural network that learns this relationship so that it would predict a 7 bedroom house as costing close to 400k etc.\n",
        "\n",
        "\n",
        "Hint: Your network might work better if you scale the house price down. You don't have to give the answer 400...it might be better to create something that predicts the number 4, and then your answer is in the 'hundreds of thousands' etc.\n",
        "\n"
      ],
      "metadata": {
        "id": "UPpr4_au-pq8"
      }
    },
    {
      "cell_type": "markdown",
      "source": [],
      "metadata": {
        "id": "zjF5OEVNBQym"
      }
    },
    {
      "cell_type": "code",
      "execution_count": null,
      "metadata": {
        "colab": {
          "base_uri": "https://localhost:8080/"
        },
        "id": "JPdZUoTNO808",
        "outputId": "fb843f3a-2c66-400f-b19e-0f31d06d151c"
      },
      "outputs": [
        {
          "output_type": "stream",
          "name": "stdout",
          "text": [
            "2.15.0\n"
          ]
        }
      ],
      "source": [
        "import tensorflow as tf\n",
        "import numpy as np\n",
        "from tensorflow import keras\n",
        "\n",
        "print(tf.__version__)"
      ]
    },
    {
      "cell_type": "code",
      "source": [
        "def house_model():\n",
        "    # အိပ်ခန်း တခန်းပါ အိမ်က 100k, ၂ ခန်းကို 150k တခန်းကို 50k တိုး\n",
        "    xs = np.array([1,2,3,4,5,6],dtype=float)\n",
        "    ys = np.array([1.0,1.5,2.0,2.5,3.0,3.5],dtype=float)\n",
        "\n",
        "\n",
        "    model = tf.keras.Sequential([tf.keras.layers.Dense(units=1,input_shape=[1])])\n",
        "\n",
        "\n",
        "    model.compile(optimizer='sgd', loss='mean_squared_error')\n",
        "\n",
        "    model.fit(xs, ys, epochs=1000)\n",
        "\n",
        "    return model"
      ],
      "metadata": {
        "id": "ihUAFqVKBgAB"
      },
      "execution_count": null,
      "outputs": []
    },
    {
      "cell_type": "code",
      "source": [
        "model = house_model()"
      ],
      "metadata": {
        "id": "MEygxlC6QROO"
      },
      "execution_count": null,
      "outputs": []
    },
    {
      "cell_type": "code",
      "source": [
        "\n",
        "new_x = 7.0\n",
        "prediction = model.predict([new_x])\n",
        "print(prediction)"
      ],
      "metadata": {
        "id": "37RQJtIVQdCm",
        "colab": {
          "base_uri": "https://localhost:8080/"
        },
        "outputId": "62c79cd9-057f-4594-874a-02d0393a86ac"
      },
      "execution_count": null,
      "outputs": [
        {
          "output_type": "stream",
          "name": "stdout",
          "text": [
            "1/1 [==============================] - 0s 43ms/step\n",
            "[[4.00063]]\n"
          ]
        }
      ]
    },
    {
      "cell_type": "code",
      "source": [
        "\n",
        "prediction = model.predict([new_x])[0]\n",
        "print(prediction)"
      ],
      "metadata": {
        "id": "ZUPAUkSmRnul",
        "colab": {
          "base_uri": "https://localhost:8080/"
        },
        "outputId": "d53cb659-9ed4-41da-e8b2-6399ff69bb09"
      },
      "execution_count": null,
      "outputs": [
        {
          "output_type": "stream",
          "name": "stdout",
          "text": [
            "1/1 [==============================] - 0s 38ms/step\n",
            "[4.00063]\n"
          ]
        }
      ]
    },
    {
      "cell_type": "code",
      "source": [],
      "metadata": {
        "id": "p6_MOmp-Cfrb"
      },
      "execution_count": null,
      "outputs": []
    }
  ]
}